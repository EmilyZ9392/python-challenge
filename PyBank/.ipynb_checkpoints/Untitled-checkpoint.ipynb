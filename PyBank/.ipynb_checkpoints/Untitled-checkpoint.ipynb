{
 "cells": [
  {
   "cell_type": "code",
   "execution_count": 4,
   "metadata": {},
   "outputs": [
    {
     "ename": "FileNotFoundError",
     "evalue": "[Errno 2] No such file or directory: '/Users/emilyzinn/Desktop/python-challenge/PyPoll/resources/budget.csv'",
     "output_type": "error",
     "traceback": [
      "\u001b[0;31m---------------------------------------------------------------------------\u001b[0m",
      "\u001b[0;31mFileNotFoundError\u001b[0m                         Traceback (most recent call last)",
      "\u001b[0;32m<ipython-input-4-1f9a3c7f6fdc>\u001b[0m in \u001b[0;36m<module>\u001b[0;34m\u001b[0m\n\u001b[1;32m     18\u001b[0m \u001b[0;34m\u001b[0m\u001b[0m\n\u001b[1;32m     19\u001b[0m     \u001b[0;31m# Read the csv & create dictionaries\u001b[0m\u001b[0;34m\u001b[0m\u001b[0;34m\u001b[0m\u001b[0;34m\u001b[0m\u001b[0m\n\u001b[0;32m---> 20\u001b[0;31m \u001b[0;32mwith\u001b[0m \u001b[0mopen\u001b[0m\u001b[0;34m(\u001b[0m\u001b[0mbudget_path\u001b[0m\u001b[0;34m)\u001b[0m \u001b[0;32mas\u001b[0m \u001b[0mpl_data\u001b[0m\u001b[0;34m:\u001b[0m\u001b[0;34m\u001b[0m\u001b[0;34m\u001b[0m\u001b[0m\n\u001b[0m\u001b[1;32m     21\u001b[0m        \u001b[0mreader\u001b[0m \u001b[0;34m=\u001b[0m \u001b[0mcsv\u001b[0m\u001b[0;34m.\u001b[0m\u001b[0mDictReader\u001b[0m\u001b[0;34m(\u001b[0m\u001b[0mpl_data\u001b[0m\u001b[0;34m)\u001b[0m\u001b[0;34m\u001b[0m\u001b[0;34m\u001b[0m\u001b[0m\n\u001b[1;32m     22\u001b[0m \u001b[0;34m\u001b[0m\u001b[0m\n",
      "\u001b[0;31mFileNotFoundError\u001b[0m: [Errno 2] No such file or directory: '/Users/emilyzinn/Desktop/python-challenge/PyPoll/resources/budget.csv'"
     ]
    }
   ],
   "source": [
    "# Dependencies\n",
    "import os\n",
    "import csv\n",
    "    \n",
    " #  Pull in csv/ output text file\n",
    "budget_path = os.path.join(os.getcwd(), 'resources','budget.csv')\n",
    "    \n",
    "pybank_output = os.path.join(os.getcwd(), 'analysis', 'pybank_output.txt')\n",
    "    \n",
    " # Variables\n",
    "total_months = 0\n",
    "prev_pl = 0\n",
    "month_of_change = []\n",
    "pl_change_list = []\n",
    "greatest_increase = [\"\", 0]\n",
    "greatest_decrease = [\"\", 9999999999999999999]\n",
    "total_pl = 0\n",
    "    \n",
    "    # Read the csv & create dictionaries\n",
    "with open(budget_path) as pl_data:\n",
    "       reader = csv.DictReader(pl_data)\n",
    "    \n",
    "       for row in reader:\n",
    "    \n",
    "           # Total Months & total p/l\n",
    "            total_months = total_months + 1\n",
    "            total_pl = total_pl + int(row[\"Profit/Losses\"])\n",
    "    \n",
    "            # Profit/Losses change month-to-month\n",
    "            pl_change = int(row[\"Profit/Losses\"]) - prev_pl\n",
    "            prev_pl = int(row[\"Profit/Losses\"])\n",
    "            pl_change_list = pl_change_list + [pl_change]\n",
    "            month_of_change = month_of_change + [row[\"Date\"]]\n",
    "    \n",
    "            # Greatest increase\n",
    "            if (pl_change > greatest_increase[1]):\n",
    "                greatest_increase[0] = row[\"Date\"]\n",
    "                greatest_increase[1] = pl_change\n",
    "   \n",
    "            # Greatest decrease\n",
    "            if (pl_change < greatest_decrease[1]):\n",
    "                greatest_decrease[0] = row[\"Date\"]\n",
    "                greatest_decrease[1] = pl_change\n",
    "   \n",
    "    # Average P/L Change\n",
    "       pl_avg = sum(pl_change_list) / len(pl_change_list)\n",
    "    \n",
    "    # Print financial analysis summary\n",
    "       \n",
    "       print(f'Financial Analysis:')\n",
    "       print(f'----------------------------')\n",
    "       print(f'Total Months: {total_months}')\n",
    "       print(f'Net Profit/Loss: ${total_pl}')\n",
    "       print(f'Average P/L Change: ${pl_avg}')\n",
    "       print(f'Greatest Increase in P/L: {greatest_increase[0]} (${greatest_increase[1]})')\n",
    "       print(f'Greatest Decrease in P/L: {greatest_decrease[0]} (${greatest_decrease[1]})')\n",
    "    \n",
    "    \n",
    "       \n",
    "    \n",
    "    # Export the results to text file\n",
    "with open(pybank_output, \"w\") as txt_file:\n",
    "       \n",
    "        txt_file.write('Financial Analysis\\n')\n",
    "        txt_file.write('--------------------\\n')\n",
    "        txt_file.write('Total Months: {total_months}\\n')\n",
    "        txt_file.write('Net/Profit/Loss: ${total_pl}\\n')\n",
    "        txt_file.write('Average P/L Change: ${pl_avg}\\n')\n",
    "        txt_file.write('Greatest Increase in P/L: {greatest_increase[0]} (${greatest_increase[1]})\\n')\n",
    "        txt_file.write('Greatest Decrease in P/L: {greatest_decrease[0]} (${greatest_decrease[1]})\\n')\n",
    "  "
   ]
  },
  {
   "cell_type": "code",
   "execution_count": null,
   "metadata": {},
   "outputs": [],
   "source": []
  },
  {
   "cell_type": "code",
   "execution_count": null,
   "metadata": {},
   "outputs": [],
   "source": []
  },
  {
   "cell_type": "code",
   "execution_count": null,
   "metadata": {},
   "outputs": [],
   "source": []
  }
 ],
 "metadata": {
  "kernelspec": {
   "display_name": "Python 3",
   "language": "python",
   "name": "python3"
  },
  "language_info": {
   "codemirror_mode": {
    "name": "ipython",
    "version": 3
   },
   "file_extension": ".py",
   "mimetype": "text/x-python",
   "name": "python",
   "nbconvert_exporter": "python",
   "pygments_lexer": "ipython3",
   "version": "3.8.5"
  }
 },
 "nbformat": 4,
 "nbformat_minor": 4
}
